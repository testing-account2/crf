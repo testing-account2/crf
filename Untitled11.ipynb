{
 "cells": [
  {
   "cell_type": "code",
   "execution_count": 2,
   "metadata": {},
   "outputs": [
    {
     "ename": "IndentationError",
     "evalue": "unexpected indent (<ipython-input-2-338963cb8f91>, line 13)",
     "output_type": "error",
     "traceback": [
      "\u001b[1;36m  File \u001b[1;32m\"<ipython-input-2-338963cb8f91>\"\u001b[1;36m, line \u001b[1;32m13\u001b[0m\n\u001b[1;33m    for i in range(nPages) :\u001b[0m\n\u001b[1;37m    ^\u001b[0m\n\u001b[1;31mIndentationError\u001b[0m\u001b[1;31m:\u001b[0m unexpected indent\n"
     ]
    }
   ],
   "source": [
    "import sys\n",
    "import PyPDF2, traceback\n",
    "\n",
    "try :\n",
    "    src = sys.argv[1]\n",
    "except :\n",
    "    src = r'c:/users/sy/downloads/acrf.pdf'\n",
    "\n",
    "#src='c:/users/sy/downloads/acrf.pdf'\n",
    "input1 = PyPDF2.PdfFileReader(open(src, \"rb\"))\n",
    "nPages = input1.getNumPages()\n",
    "\n",
    " for i in range(nPages) :\n",
    "    page0 = input1.getPage(i)\n",
    "    try :\n",
    "        for annot in page0['/Annots'] :\n",
    "            print (annot.getObject())       # (1)\n",
    "            print ('')\n",
    "    except : \n",
    "        # there are no annotations on this page\n",
    "        pass\n",
    "    \n",
    "print(npages) "
   ]
  },
  {
   "cell_type": "code",
   "execution_count": null,
   "metadata": {},
   "outputs": [],
   "source": []
  },
  {
   "cell_type": "code",
   "execution_count": null,
   "metadata": {},
   "outputs": [],
   "source": []
  }
 ],
 "metadata": {
  "kernelspec": {
   "display_name": "Python 3",
   "language": "python",
   "name": "python3"
  }
 },
 "nbformat": 4,
 "nbformat_minor": 2
}
